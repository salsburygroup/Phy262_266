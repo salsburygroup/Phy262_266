{
 "cells": [
  {
   "cell_type": "markdown",
   "metadata": {},
   "source": [
    "This notebook will build on our clustering work from last time. By using a Markov model to explore transitions between states aka clusters and to look at relaxation to equilibrium.\n"
   ]
  },
  {
   "cell_type": "markdown",
   "metadata": {},
   "source": [
    "Part 1:Load the Data"
   ]
  },
  {
   "cell_type": "markdown",
   "metadata": {},
   "source": [
    "We will be using the data as before, so import it, and display the corner plot and verify from your lab report that it looks the same."
   ]
  },
  {
   "cell_type": "code",
   "execution_count": null,
   "metadata": {},
   "outputs": [],
   "source": [
    "#code to import and plot the data\n",
    "import pandas as pd\n",
    "import matplotlib.pyplot as plt\n",
    "import corner\n",
    "\n",
    "column_names = ['PC1', 'PC2', 'PC3', 'PC4', 'PC5']\n",
    "data = pd.read_csv('../data/TM_projections.txt', sep='\\s+', names=column_names, header=None)\n",
    "\n",
    "\n",
    "fig = corner.corner(data, show_titles=True)\n",
    "plt.show()"
   ]
  },
  {
   "cell_type": "markdown",
   "metadata": {},
   "source": [
    "**Part 2: K-means clustering on the data**"
   ]
  },
  {
   "cell_type": "markdown",
   "metadata": {},
   "source": [
    "Last time you probably found that clusters into 6 clusters gave the optimal silhoutte score, so cluster the data into 6 clusters, and plot the cluster populations, and the cluster number vs time."
   ]
  },
  {
   "cell_type": "code",
   "execution_count": null,
   "metadata": {},
   "outputs": [],
   "source": [
    "#code to kmeans cluster for 5D data\n",
    "from sklearn.cluster import KMeans\n",
    "\n",
    "kmeans = KMeans(n_clusters=6, init='k-means++', random_state=42,n_init='auto')\n",
    "kmeans.fit(data[['PC1', 'PC2', 'PC3', 'PC4', 'PC5']])\n",
    "cluster_labels = kmeans.predict(data[['PC1', 'PC2', 'PC3', 'PC4', 'PC5']])\n",
    "\n",
    "# Plotting cluster populations in histogram \n",
    "plt.figure(figsize=(8, 6))\n",
    "plt.hist(cluster_labels, bins=6, rwidth=0.8, color='red', alpha=0.7)\n",
    "plt.title('Population of Each Cluster (K-Means)')\n",
    "plt.xlabel('Cluster')\n",
    "plt.ylabel('Population')\n",
    "plt.show()\n",
    "\n",
    "# Generate a scatter plot cluster membership over time\n",
    "plt.figure(figsize=(10, 6))\n",
    "plt.scatter(data.index, cluster_labels, c=cluster_labels, cmap='viridis', alpha=0.6)\n",
    "\n",
    "# Customize the plot\n",
    "plt.title('Cluster Membership vs. Time')\n",
    "plt.xlabel('Time (Row Index)')\n",
    "plt.ylabel('Cluster Membership')\n",
    "plt.colorbar(label='Cluster Label')\n"
   ]
  },
  {
   "cell_type": "markdown",
   "metadata": {},
   "source": [
    "Part 3: Constructing Markov Models\n",
    "\n",
    "A Markov model consists of a Markov chain, which is used to calculate a transition matrix, aka a Markov Matrix.\n",
    "\n",
    "Markov chain\n",
    "\n",
    "A Markov chain is a mathematical system that undergoes transitions from one state to another, on a state space, with the probability of each next state depending only on the current state and not on the sequence of events that preceded it (memorylessness property). This stochastic model is characterized by its transition probabilities, which describe the likelihood of moving from one state to another in a single time step.\n",
    "\n",
    "Markov Matrix\n",
    "\n",
    "A Markov matrix, also known as a transition matrix, is a square matrix describing the probabilities of moving from one state to another in a Markov chain. Each cell (i, j) in the matrix represents the probability of transitioning from state i to state j, with all rows in the matrix summing to 1, since the sum of probabilities to move from any given state to all possible states (including itself) is 100%.\n"
   ]
  },
  {
   "cell_type": "markdown",
   "metadata": {},
   "source": [
    "From that description, it should be clear that a time series of cluster numbers can be considered as a Markov chain. Each cluster is a state in this analysis and if we assume that transitions from one time point to the next do not depend on previous time-points, then it is Markovian. and so we have a Markov chain. We can then construct the transition matrix by literally counting how often in a time step, the system moves from one cluster to another, or stays put."
   ]
  },
  {
   "cell_type": "markdown",
   "metadata": {},
   "source": [
    "Question 1: A transition matrix must be square, but is it a symmetric matrix? Why or why not?"
   ]
  },
  {
   "cell_type": "markdown",
   "metadata": {},
   "source": [
    "Now let's actually calculate the transition matrix from our Markov chain. Change names as appropriate."
   ]
  },
  {
   "cell_type": "code",
   "execution_count": null,
   "metadata": {},
   "outputs": [],
   "source": [
    "import numpy as np\n",
    "\n",
    "\n",
    "num_clusters = 6  # Assuming there are 6 clusters\n",
    "transition_counts = np.zeros((num_clusters, num_clusters))\n",
    "\n",
    "for (i, j) in zip(cluster_labels[:-1], cluster_labels[1:]):\n",
    "    transition_counts[i, j] += 1\n",
    "\n",
    "# View the transition counts matrix\n",
    "print(\"Transition counts matrix:\")\n",
    "print(transition_counts)\n",
    "\n",
    "total_sum = np.sum(transition_counts)\n",
    "\n",
    "print(\"Total sum of elements in the transition matrix:\", total_sum)\n",
    "\n",
    "len(data)\n"
   ]
  },
  {
   "cell_type": "markdown",
   "metadata": {},
   "source": [
    "Question 2: Is the sum of the elements in the transition matrix correct? Why or why not?"
   ]
  },
  {
   "cell_type": "markdown",
   "metadata": {},
   "source": [
    "\n",
    "How you need to normalize the matrix so that the probability of going from a state to all other states is 1. That simply enforces the idea that the state space is complete, so that the system doesn't disappear. \n"
   ]
  },
  {
   "cell_type": "code",
   "execution_count": null,
   "metadata": {},
   "outputs": [],
   "source": [
    "transition_probabilities = transition_counts / transition_counts.sum(axis=1, keepdims=True)\n",
    "\n",
    "# Handling cases where a row sums to 0 (no outgoing transitions) by setting probabilities to 0\n",
    "transition_probabilities[np.isnan(transition_probabilities)] = 0\n",
    "\n",
    "# View the transition probabilities matrix\n",
    "print(\"Transition probabilities matrix:\")\n",
    "print(transition_probabilities)\n",
    "\n",
    "total_sum = np.sum(transition_probabilities)\n",
    "\n",
    "print(\"Total sum of elements in the transition matrix:\", total_sum)\n"
   ]
  },
  {
   "cell_type": "markdown",
   "metadata": {},
   "source": [
    "Questions 3: Does the sum of the probabilities make sense? Why or why not?"
   ]
  },
  {
   "cell_type": "markdown",
   "metadata": {},
   "source": [
    "It is often easier to see what the transition matrix looks like if we visualize it"
   ]
  },
  {
   "cell_type": "code",
   "execution_count": null,
   "metadata": {},
   "outputs": [],
   "source": [
    "import seaborn as sns\n",
    "\n",
    "# Assuming transition_probabilities is your transition matrix\n",
    "plt.figure(figsize=(10, 8))  # Set the figure size for better readability\n",
    "sns.heatmap(transition_probabilities, annot=True, cmap='coolwarm', fmt=\".4f\")\n",
    "plt.title('Transition Probability Matrix Heatmap')\n",
    "plt.xlabel('To Cluster')\n",
    "plt.ylabel('From Cluster')\n",
    "plt.show()\n",
    "\n"
   ]
  },
  {
   "cell_type": "markdown",
   "metadata": {},
   "source": [
    "Questions 4: What is the most probable transition for each state in one timestep? Is it surprising?\n",
    "What are the second most probable outcomes for each state in a timestep? \n",
    "Are all state to state transitions allowed? \n",
    "Finally, is the transition matrix symmetry? Does that make sense, why or why not."
   ]
  },
  {
   "cell_type": "markdown",
   "metadata": {},
   "source": [
    "Part 4: Evolving states with Markov models"
   ]
  },
  {
   "cell_type": "markdown",
   "metadata": {},
   "source": [
    "Since we have a transition matrix, this means we can see what happens to a given initial state over time.\n",
    "For example, if we start in cluster 0) we can see what happens over time to that state. That is what is the probability at a given time that a particular system that started in cluster 0 is in another state, or equivalently, if we had many systems that all started in cluster 0, what is fraction will be in a particular state at a particular time."
   ]
  },
  {
   "cell_type": "code",
   "execution_count": null,
   "metadata": {},
   "outputs": [],
   "source": [
    "# Specify the number of states and time points\n",
    "num_states = 6\n",
    "num_time_points = 100\n",
    "\n",
    "# Define an initial state vector\n",
    "# Starting entirely in cluster 0\n",
    "initial_state_0 = np.array([1, 0, 0, 0, 0, 0])\n",
    "\n",
    "# Initialize an array to store state vectors over time\n",
    "states_over_time= np.zeros((num_time_points, num_states))\n",
    "states_over_time[0] = initial_state_0\n",
    "\n",
    "# Calculate the state at each time point\n",
    "for t in range(1, num_time_points):\n",
    "    states_over_time[t] = states_over_time[t-1].dot(transition_probabilities)\n",
    "\n",
    "# Plot the percent occupancy of different clusters over time\n",
    "plt.figure(figsize=(12, 8))\n",
    "for i in range(num_states):\n",
    "    plt.plot(states_over_time[:, i] * 100, label=f'Cluster {i}')\n",
    "\n",
    "plt.title('Percent Occupancy of Different States Over Time')\n",
    "plt.xlabel('Time Point')\n",
    "plt.ylabel('Percent Occupancy (%)')\n",
    "plt.legend()\n",
    "plt.show()\n",
    "\n",
    "final_state_vector_0= states_over_time[-1]\n",
    "print(\"Final State Vector:\", final_state_vector_0)"
   ]
  },
  {
   "cell_type": "markdown",
   "metadata": {},
   "source": [
    "Question 5: Discuss what happens to the different probabilities over time. Note, the changes are not necessarily monotonic. Change the number of time points as needed to make the behavior clear."
   ]
  },
  {
   "cell_type": "markdown",
   "metadata": {},
   "source": [
    "Exercise 1: What happens if we start in the other states? Change the name of the final state vector that is saved so we can make comparisions later. Make figures, and discuss the different temporal behaviors. Do they relax to the same set of probabilities? Do they do so in the same manner? "
   ]
  },
  {
   "cell_type": "markdown",
   "metadata": {},
   "source": [
    "Now let's see quantiatively if starting in the different states results in converging to the same final probability distribution and how well do they compare with the actual cluster distribution we used to get the Markov matrix. Change names as appopriate."
   ]
  },
  {
   "cell_type": "code",
   "execution_count": null,
   "metadata": {},
   "outputs": [],
   "source": [
    "# Collect all final state vectors into a matrix for easier plotting\n",
    "final_state_vectors = np.array([\n",
    "    final_state_vector_0,\n",
    " ## add the five other state vectors\n",
    "])\n",
    "\n",
    "# Number of clusters/states\n",
    "num_states = final_state_vector_0.shape[0]\n",
    "\n",
    "# Setting up the plot\n",
    "fig, ax = plt.subplots(figsize=(10, 7))\n",
    "state_indices = range(num_states)\n",
    "bar_width = 0.1  # Width of the bars\n",
    "\n",
    "# Create a bar chart for each final state vector\n",
    "for i in range(final_state_vectors.shape[0]):\n",
    "    ax.bar(state_indices, final_state_vectors[i], bar_width, label=f'Vector {i+1}')\n",
    "    state_indices = [x + bar_width for x in state_indices]  # Shift for the next vector\n",
    "\n",
    "# Finalizing the plot\n",
    "ax.set_xlabel('State')\n",
    "ax.set_ylabel('Population')\n",
    "ax.set_title('Population of Each State Across Vectors')\n",
    "ax.set_xticks([r + bar_width for r in range(num_states)])\n",
    "ax.set_xticklabels([f'State {i+1}' for i in range(num_states)])\n",
    "ax.legend()\n",
    "\n",
    "plt.show()\n",
    "print(final_state_vectors) \n",
    "# Calculate the population of each cluster\n",
    "clusters, counts = np.unique(cluster_labels, return_counts=True)\n",
    "\n",
    "# Calculate the probabilities for each cluster by normalizing the counts\n",
    "cluster_probabilities = counts / counts.sum()\n",
    "\n",
    "# Save cluster probabilities\n",
    "print(\"Cluster Probabilities:\", cluster_probabilities)\n"
   ]
  },
  {
   "cell_type": "markdown",
   "metadata": {},
   "source": [
    "You should that they do not converge to the same distribution. However, we only did 100 time points.\n",
    "\n",
    "Exercise 2: Extend the number of time points until the final state vectors are virtually identical. What does this tell us? Discuss and comment."
   ]
  },
  {
   "cell_type": "markdown",
   "metadata": {},
   "source": [
    "Part 5: Quantiatively exploring convergence"
   ]
  },
  {
   "cell_type": "markdown",
   "metadata": {},
   "source": [
    "In the previous part, you explored different initial conditions and convergences one at a time. Obviously, we could do it more efficiently. We could give it a number of initial conditions, and have the computer do all the plots, and calculate when convergences occurs to a given criteria, such as element-wise to within 1%"
   ]
  },
  {
   "cell_type": "code",
   "execution_count": null,
   "metadata": {},
   "outputs": [],
   "source": [
    "\n",
    "# Specify the number of states and time points\n",
    "num_states = \n",
    "num_time_points = \n",
    "\n",
    "\n",
    "# Define a list of initial state vectors\n",
    "initial_conditions = [\n",
    "    np.array([1, 0, 0, 0, 0, 0]),\n",
    "    # Add more initial conditions (pure states)\n",
    "]\n",
    "\n",
    "# Create a figure to hold the subplots\n",
    "fig, axs = plt.subplots(len(initial_conditions)//3, 3, figsize=(18, 12)) #modify as needed for initial conditions\n",
    "fig.suptitle('Percent Occupancy of Different States Over Time for Each Initial Condition')\n",
    "\n",
    "# Initialize a list to save convergence times for each initial condition\n",
    "convergence_times = []\n",
    "\n",
    "# Iterate through each provided initial condition\n",
    "for idx, initial_state in enumerate(initial_conditions):\n",
    "    states_over_time = np.zeros((num_time_points, num_states))\n",
    "    states_over_time[0] = initial_state\n",
    "\n",
    "    convergence_time_point = None  # Initialize to None for each initial condition\n",
    "\n",
    "    # Calculate the state at each time point and check for convergence\n",
    "    for t in range(1, num_time_points):\n",
    "        states_over_time[t] = states_over_time[t-1].dot(transition_probabilities)\n",
    "        if convergence_time_point is None and np.allclose(states_over_time[t], cluster_probabilities, atol=0.01):\n",
    "            convergence_time_point = t\n",
    "\n",
    "    convergence_times.append(convergence_time_point)  # Save convergence time\n",
    "\n",
    "    # Plotting for the current initial condition\n",
    "    ax = axs[idx // 3, idx % 3 ] #modify as needed for initial conditions\n",
    "    for i in range(num_states):\n",
    "        ax.plot(states_over_time[:, i] * 100, label=f'Cluster {i}')\n",
    "    \n",
    "    ax.set_xlabel('Time Point')\n",
    "    ax.set_ylabel('Percent Occupancy (%)')\n",
    "    ax.legend()\n",
    "\n",
    "plt.tight_layout(rect=[0, 0.03, 1, 0.95])\n",
    "plt.show()\n",
    "\n",
    "# Print out convergence times for each initial condition\n",
    "for i, time in enumerate(convergence_times):\n",
    "    if time is not None:\n",
    "        print(f\"Initial Condition {i} converged at time point {time}.\")\n",
    "    else:\n",
    "        print(f\"Initial Condition {i} did not converge within the specified time points.\")\n"
   ]
  },
  {
   "cell_type": "markdown",
   "metadata": {},
   "source": [
    "Now, we will explore different initial conditions. We have done all the ones where there is 100% probability to start in a particular state (aka cluster), these are call pure states. However, mixed states are possible such as [0,0,0.8, 0.0, 0.0, 0.0, 0.2], this means either there is an 80% chance of starting in cluster 1 (remember cluster numbering starts at 1), and a 20% change of starting in cluster 5, or that there are many copies of this system and 80% start in cluster 1 and 20% in cluster 5.\n",
    "\n",
    "Exercise 3: Explore a number of different mixed states ( at least 18) and see what happens. Note, there are two lines you will have to modify if you don't do a multiple of 3."
   ]
  },
  {
   "cell_type": "code",
   "execution_count": null,
   "metadata": {},
   "outputs": [],
   "source": [
    "# Secify the number of states and time points\n",
    "num_states = \n",
    "num_time_points = \n",
    "\n",
    "\n",
    "\n",
    "# Define a list of initial state vectors\n",
    "#Mixed State 1\n",
    "initial_conditions = [\n",
    "    np.array([0.2, 0, 0.3, 0, 0, .5]),\n",
    "    # Add more initial conditions as needed\n",
    "]\n",
    "\n",
    "# Create a figure to hold the subplots\n",
    "fig, axs = plt.subplots(len(initial_conditions)//3, 3, figsize=(21, 35)) #modify as needed for initial conditions\n",
    "fig.suptitle('Percent Occupancy of Different States Over Time for Each Initial Condition', fontsize = 35)\n",
    "\n",
    "# Initialize a list to save convergence times for each initial condition\n",
    "convergence_times = []\n",
    "\n",
    "# Iterate through each provided initial condition\n",
    "for idx, initial_state in enumerate(initial_conditions):\n",
    "    states_over_time = np.zeros((num_time_points, num_states))\n",
    "    states_over_time[0] = initial_state\n",
    "\n",
    "    convergence_time_point = None  # Initialize to None for each initial condition\n",
    "\n",
    "    # Calculate the state at each time point and check for convergence\n",
    "    for t in range(1, num_time_points):\n",
    "        states_over_time[t] = states_over_time[t-1].dot(transition_probabilities)\n",
    "        if convergence_time_point is None and np.allclose(states_over_time[t], cluster_probabilities, atol=0.01):\n",
    "            convergence_time_point = t\n",
    "\n",
    "    convergence_times.append(convergence_time_point)  # Save convergence time\n",
    "\n",
    "    # Plotting for the current initial condition\n",
    "    ax = axs[idx // 3, idx % 3 ] #modify as needed for initial conditions\n",
    "    for i in range(num_states):\n",
    "        ax.plot(states_over_time[:, i] * 100, label=f'Cluster {i}')\n",
    "    \n",
    "    ax.set_xlabel('Time Point')\n",
    "    ax.set_ylabel('Percent Occupancy (%)')\n",
    "    ax.legend()\n",
    "\n",
    "plt.tight_layout(rect=[0, 0.03, 1, 0.95])\n",
    "plt.show()\n",
    "\n",
    "# Print out convergence times for each initial condition\n",
    "for i, time in enumerate(convergence_times):\n",
    "    if time is not None:\n",
    "        print(f\"Initial Condition {i} converged at time point {time}.\")\n",
    "    else:\n",
    "        print(f\"Initial Condition {i} did not converge within the specified time points.\")"
   ]
  },
  {
   "cell_type": "code",
   "execution_count": null,
   "metadata": {},
   "outputs": [],
   "source": []
  }
 ],
 "metadata": {
  "kernelspec": {
   "display_name": "Python 3 (ipykernel)",
   "language": "python",
   "name": "python3"
  },
  "language_info": {
   "codemirror_mode": {
    "name": "ipython",
    "version": 3
   },
   "file_extension": ".py",
   "mimetype": "text/x-python",
   "name": "python",
   "nbconvert_exporter": "python",
   "pygments_lexer": "ipython3",
   "version": "3.11.8"
  }
 },
 "nbformat": 4,
 "nbformat_minor": 4
}

{
 "cells": [
  {
   "cell_type": "code",
   "execution_count": null,
   "id": "868bddac-02ff-4647-84b8-17ca4e22ee76",
   "metadata": {},
   "outputs": [],
   "source": [
    "# Central Forces — Leapfrog Integrator (Python version)\n",
    "\n",
    "This notebook translates the original MATLAB assignment on central‐force motion into Python.  \n",
    "You will:\n",
    "\n",
    "* Implement a **velocity verlet integrator** for radial motion with conserved angular momentum \\(L\\).\n",
    "* Explore several force laws – inverse‑square, inverse, inverse‑cube, linear (Hooke‑like), and Yukawa.\n",
    "* Generate **polar plots** of the trajectory and **radius‑vs‑time** graphs with Plotly.\n",
    "* Answer qualitative questions in the provided markdown prompts.\n",
    "\n",
    "> **Tip** – Run the notebook cell‑by‑cell. Code is fully parameterised so you can change initial conditions, total time, or `dt` without rewriting functions.\n"
   ]
  },
  {
   "cell_type": "code",
   "execution_count": null,
   "id": "41c73026",
   "metadata": {},
   "outputs": [],
   "source": [
    "import numpy as np\n",
    "import plotly.graph_objects as go\n",
    "\n",
    "def leapfrog_central(total_time: float,\n",
    "                     dt: float,\n",
    "                     r0: float,\n",
    "                     vr0: float,\n",
    "                     theta0: float,\n",
    "                     L: float,\n",
    "                     m: float,\n",
    "                     accel_fn,\n",
    "                     **accel_params):\n",
    "    \"\"\"Simulate central‑force motion with the leapfrog integrator.\n",
    "\n",
    "    Parameters\n",
    "    ----------\n",
    "    total_time : float\n",
    "        End time of the simulation.\n",
    "    dt : float\n",
    "        Time‑step (must evenly divide total_time).\n",
    "    r0, vr0, theta0 : float\n",
    "        Initial radius, radial velocity, and angle (rad).\n",
    "    L : float\n",
    "        Conserved angular momentum.\n",
    "    m : float\n",
    "        Particle mass.\n",
    "    accel_fn : callable\n",
    "        Function `a_r = accel_fn(r, m=m, k=1, **accel_params)` returning the\n",
    "        *radial* acceleration **excluding** the centripetal term L²/(m² r³).\n",
    "    accel_params : dict\n",
    "        Extra keyword arguments forwarded to *accel_fn*.\n",
    "    \"\"\"\n",
    "\n",
    "    n_steps = int(total_time/dt)\n",
    "    t = np.linspace(0, total_time, n_steps + 1)\n",
    "\n",
    "    # Allocate arrays\n",
    "    r = np.empty_like(t)\n",
    "    vr = np.empty_like(t)\n",
    "    ar = np.empty_like(t)\n",
    "\n",
    "    theta = np.empty_like(t)\n",
    "    vtheta = np.empty_like(t)\n",
    "    thetadot = np.empty_like(t)\n",
    "\n",
    "    # Initial conditions\n",
    "    r[0], vr[0], theta[0] = r0, vr0, theta0\n",
    "    thetadot[0] = L / (m * r0**2)\n",
    "    vtheta[0] = r0 * thetadot[0]\n",
    "    ar_extra = L**2 / (m**2 * r0**3)    # centripetal term\n",
    "    ar[0] = accel_fn(r0, m=m, **accel_params) + ar_extra\n",
    "\n",
    "    # --- Leapfrog integration ---\n",
    "    for i in range(n_steps):\n",
    "        # Drift: update radius\n",
    "        r[i+1] = r[i] + vr[i]* dt+ar[i]*dt*dt*0.5\n",
    "\n",
    "        # Update theta quantities **after** radius is known\n",
    "        thetadot[i+1] = L / (m * r[i+1]**2)\n",
    "        vtheta[i+1] = r[i+1] * thetadot[i+1]\n",
    "        theta[i+1] = theta[i] + vtheta[i+1] * dt  # leapfrog form\n",
    "\n",
    "        # Compute acceleration at new position\n",
    "        ar_extra = L**2 / (m**2 * r[i+1]**3)\n",
    "        ar[i+1] = accel_fn(r[i+1], m=m, **accel_params) + ar_extra\n",
    "\n",
    "        # Record full‑step radial velocity for output\n",
    "        vr[i+1] = vr[i]+ 0.5 * (ar[i]+ar[i+1]) * dt\n",
    "\n",
    "    return t, r, vr, theta, vtheta, thetadot\n"
   ]
  },
  {
   "cell_type": "code",
   "execution_count": null,
   "id": "fb8757c1",
   "metadata": {},
   "outputs": [],
   "source": [
    "def inv_square_accel(r, k=1.0, m=1.0, **_):\n",
    "    \"\"\"Inverse‑square force  F = -k / r²  (Newton/Kepler).\"\"\"\n",
    "    return -k / r**2 / m\n",
    "\n",
    "def inv_accel(r, k=1.0, m=1.0, **_):\n",
    "    \"\"\"Inverse force  F = -k / r  (e.g., 2‑D gravity analogue).\"\"\"\n",
    "    return -k / r / m\n",
    "\n",
    "def inv_cube_accel(r, k=1.0, m=1.0, **_):\n",
    "    \"\"\"Inverse‑cube force  F = -k / r³.\"\"\"\n",
    "    return -k / r**3 / m\n",
    "\n",
    "def linear_accel(r, k=1.0, m=1.0, **_):\n",
    "    \"\"\"Linear (Hooke‑like) force  F = -k r.\"\"\"\n",
    "    return -k * r / m\n",
    "\n",
    "def yukawa_accel(r, k=1.0, a=1.0, m=1.0, **_):\n",
    "    \"\"\"Yukawa potential  V(r) = -k e^{‑a r} / r  ⇒\n",
    "    F(r) = -∂V/∂r = -k e^{‑a r} (1/r² + a/r).\"\"\"\n",
    "    return -k * np.exp(-a * r) * (1/r**2 + a/r) / m\n"
   ]
  },
  {
   "cell_type": "code",
   "execution_count": null,
   "id": "525a7ddc",
   "metadata": {},
   "outputs": [],
   "source": [
    "def plot_polar(r, theta, title=''):\n",
    "    fig = go.Figure()\n",
    "\n",
    "    fig.add_trace(\n",
    "        go.Scatterpolar(\n",
    "            r=r,\n",
    "            theta=np.degrees(theta),   # Plotly expects degrees\n",
    "            mode='lines',\n",
    "            line=dict(width=2)\n",
    "        )\n",
    "    )\n",
    "\n",
    "    fig.update_layout(\n",
    "        title_text=title,                      # overall title\n",
    "        polar=dict(\n",
    "            radialaxis=dict(                   # **radial** axis can have a title\n",
    "                title=dict(text='Radius r')\n",
    "            ),\n",
    "            angularaxis=dict(                  # no title here; rotation options only\n",
    "                rotation=0,                    # 0° at +x direction\n",
    "                direction=\"counterclockwise\"\n",
    "            )\n",
    "        ),\n",
    "        width=600,\n",
    "        height=600,\n",
    "        showlegend=False\n",
    "    )\n",
    "\n",
    "    fig.show()\n",
    "\n",
    "\n",
    "def plot_radius_time(t, r, title='r(t)'):\n",
    "    fig = go.Figure()\n",
    "    fig.add_trace(go.Scatter(x=t, y=r, mode='lines', name='r'))\n",
    "    fig.update_layout(\n",
    "        title=title,\n",
    "        xaxis_title='Time',\n",
    "        yaxis_title='Radius',\n",
    "        width=700,\n",
    "        height=400\n",
    "    )\n",
    "    fig.show()\n"
   ]
  },
  {
   "cell_type": "markdown",
   "id": "ed799cdd",
   "metadata": {},
   "source": [
    "## 1 · Baseline inverse‑square simulation\n",
    "\n",
    "Initial parameters  \n",
    "\\[\n",
    "k = 1, \\quad m = 1, \\quad L = 2, \\quad r_0 = L^2 = 4, \\quad v_{r0}=0,\\quad \\theta_0=0,\\quad\n",
    "t_\\text{max}=100,\\; dt=10^{-4}\n",
    "\\]\n",
    "\n",
    "Run the cell and inspect the polar trajectory and radius‑vs‑time.  \n",
    "Afterwards, **edit the markdown immediately below** to answer the first question: *What sort of motion do we have?*"
   ]
  },
  {
   "cell_type": "code",
   "execution_count": null,
   "id": "0f3c9375",
   "metadata": {},
   "outputs": [],
   "source": [
    "# --- parameters ---\n",
    "k, m, L = 1.0, 1.0, 2.0\n",
    "r0 = L**2\n",
    "vr0 = 0.0\n",
    "theta0 = 0.0\n",
    "t_max = 100.0\n",
    "dt = 1e-3   # 0.0001\n",
    "\n",
    "# --- simulate ---\n",
    "t, r, vr, theta, vtheta, thetadot = leapfrog_central(\n",
    "    total_time=t_max, dt=dt,\n",
    "    r0=r0, vr0=vr0, theta0=theta0,\n",
    "    L=L, m=m,\n",
    "    accel_fn=inv_square_accel, k=k\n",
    ")\n",
    "\n",
    "# --- plots ---\n",
    "plot_polar(r, theta, title='Inverse‑square baseline (polar)')\n",
    "plot_radius_time(t, r, title='Inverse‑square baseline  r(t)')\n"
   ]
  },
  {
   "cell_type": "markdown",
   "id": "5683f998",
   "metadata": {},
   "source": [
    "**Your observations:**  \n",
    "_Double‑click to edit. Describe the type of orbit and any conserved quantities you notice._"
   ]
  },
  {
   "cell_type": "markdown",
   "id": "5bf16d1b",
   "metadata": {},
   "source": [
    "## 2 · Experiments\n",
    "\n",
    "The following cells provide **templates** for each experiment in the assignment.  \n",
    "Adjust parameters as directed, run, and record your observations in the markdown prompts.\n"
   ]
  },
  {
   "cell_type": "markdown",
   "id": "ff23e4c0",
   "metadata": {},
   "source": [
    "### 2.1 Increase $r_0$ by 2× and time by 10×  \n",
    "(Keep the inverse‑square force.)"
   ]
  },
  {
   "cell_type": "code",
   "execution_count": null,
   "id": "0b9c1308",
   "metadata": {},
   "outputs": [],
   "source": [
    "# 2.1 parameters\n",
    "r0 = 2 * L**2\n",
    "t_max = 200.0           # 10× longer\n",
    "dt = 1e-3\n",
    "\n",
    "t, r, vr, theta, vtheta, thetadot = leapfrog_central(\n",
    "    total_time=t_max, dt=dt,\n",
    "    r0=r0, vr0=0.0, theta0=0.0,\n",
    "    L=L, m=m,\n",
    "    accel_fn=inv_square_accel, k=k\n",
    ")\n",
    "plot_polar(r, theta, title='Inverse‑square, r0×2, t×10')\n",
    "plot_radius_time(t, r, title='r(t)  —  r0×2, t×10')\n"
   ]
  },
  {
   "cell_type": "markdown",
   "id": "91a585f0",
   "metadata": {},
   "source": [
    "**Observations:**  \n",
    "_Discuss how the orbit shape and radial oscillation period change._"
   ]
  },
  {
   "cell_type": "markdown",
   "id": "1ffbc198",
   "metadata": {},
   "source": [
    "### 2.2 Inverse force $F=-k/r$  \n",
    "(a) Baseline parameters ( $r_0=L^2$, $t=100$ )"
   ]
  },
  {
   "cell_type": "code",
   "execution_count": null,
   "id": "ed15ede7",
   "metadata": {},
   "outputs": [],
   "source": [
    "t, r, vr, theta, vtheta, thetadot = leapfrog_central(\n",
    "    total_time=100.0, dt=1e-3,\n",
    "    r0=L**2, vr0=0.0, theta0=0.0,\n",
    "    L=L, m=m,\n",
    "    accel_fn=inv_accel, k=k\n",
    ")\n",
    "plot_polar(r, theta, title='Inverse‑first‑power force  (polar)')\n",
    "plot_radius_time(t, r, title='Inverse‑first‑power  r(t)')\n"
   ]
  },
  {
   "cell_type": "markdown",
   "id": "6fd72ad8",
   "metadata": {},
   "source": [
    "_Describe the motion. Is it closed or precessing?_"
   ]
  },
  {
   "cell_type": "markdown",
   "id": "2ccea3da",
   "metadata": {},
   "source": [
    "**(c) Double $r_0$ ( $r_0=2L^2$ ) with $t=1000$**"
   ]
  },
  {
   "cell_type": "code",
   "execution_count": null,
   "id": "2cce5a47",
   "metadata": {},
   "outputs": [],
   "source": [
    "t, r, vr, theta, vtheta, thetadot = leapfrog_central(\n",
    "    total_time=200.0, dt=1e-3,\n",
    "    r0=2*2**2, vr0=0.0, theta0=0.0,\n",
    "    L=L, m=m,\n",
    "    accel_fn=inv_accel, k=k\n",
    ")\n",
    "plot_polar(r, theta, title='Inverse force — r0×2')\n",
    "plot_radius_time(t, r, title='Inverse force — r0×2  r(t)')\n"
   ]
  },
  {
   "cell_type": "markdown",
   "id": "81d10a4e",
   "metadata": {},
   "source": [
    "_Notes:_"
   ]
  },
  {
   "cell_type": "markdown",
   "id": "6ba67be0",
   "metadata": {},
   "source": [
    "### 2.3 Inverse‑cube force $F=-k/r^3$ (baseline)"
   ]
  },
  {
   "cell_type": "code",
   "execution_count": null,
   "id": "cb61e348",
   "metadata": {},
   "outputs": [],
   "source": [
    "t, r, vr, theta, vtheta, thetadot = leapfrog_central(\n",
    "    total_time=100.0, dt=1e-3,\n",
    "    r0=L**2, vr0=0.0, theta0=0.0,\n",
    "    L=L, m=m,\n",
    "    accel_fn=inv_cube_accel, k=k\n",
    ")\n",
    "plot_polar(r, theta, title='Inverse‑cube baseline')\n",
    "plot_radius_time(t, r, title='Inverse‑cube  r(t)')\n"
   ]
  },
  {
   "cell_type": "markdown",
   "id": "c2a9e611",
   "metadata": {},
   "source": [
    "_Describe the orbit — does it remain bounded?_"
   ]
  },
  {
   "cell_type": "markdown",
   "id": "1271c486",
   "metadata": {},
   "source": [
    "### 2.4 Linear force  $F=-k\\,r$  \n",
    "(a) $r_0=L^2,\\;L=2$"
   ]
  },
  {
   "cell_type": "code",
   "execution_count": null,
   "id": "a9746b80",
   "metadata": {},
   "outputs": [],
   "source": [
    "t, r, vr, theta, vtheta, thetadot = leapfrog_central(\n",
    "    total_time=100.0, dt=1e-3,\n",
    "    r0=L**2, vr0=0.0, theta0=0.0,\n",
    "    L=2.0, m=1.0,\n",
    "    accel_fn=linear_accel, k=1.0\n",
    ")\n",
    "plot_polar(r, theta, title='Linear force  (L=2)')\n",
    "plot_radius_time(t, r, title='Linear force  r(t)  (L=2)')\n"
   ]
  },
  {
   "cell_type": "markdown",
   "id": "4620e497",
   "metadata": {},
   "source": [
    "**(b) $r_0=4,\\;L=0$**"
   ]
  },
  {
   "cell_type": "code",
   "execution_count": null,
   "id": "459bb228",
   "metadata": {},
   "outputs": [],
   "source": [
    "t, r, vr, theta, vtheta, thetadot = leapfrog_central(\n",
    "    total_time=100.0, dt=1e-3,\n",
    "    r0=4.0, vr0=0.0, theta0=0.0,\n",
    "    L=0.0, m=1.0,\n",
    "    accel_fn=linear_accel, k=1.0\n",
    ")\n",
    "plot_polar(r, theta, title='Linear force  (L=0)')\n",
    "plot_radius_time(t, r, title='Linear force  r(t)  (L=0)')\n"
   ]
  },
  {
   "cell_type": "markdown",
   "id": "143337ca",
   "metadata": {},
   "source": [
    "_Explain differences between the two cases._"
   ]
  },
  {
   "cell_type": "markdown",
   "id": "93c25c75",
   "metadata": {},
   "source": [
    "### 2.5 Yukawa potential  $V(r) = -\\dfrac{k e^{-a r}}{r}$\n",
    "\n",
    "Below we sweep the screening length parameter $a$ over decades (0.001 → 0.01 → 0.1 → 1.0) and plot the resulting orbits.\n"
   ]
  },
  {
   "cell_type": "code",
   "execution_count": null,
   "id": "8ea99382",
   "metadata": {},
   "outputs": [],
   "source": [
    "a_values = [1e-3, 1e-2, 1e-1, 1.0]\n",
    "for a in a_values:\n",
    "    t, r, vr, theta, vtheta, thetadot = leapfrog_central(\n",
    "        total_time=500.0, dt=1e-3,\n",
    "        r0=L**2, vr0=0.0, theta0=0.0,\n",
    "        L=2.0, m=1.0,\n",
    "        accel_fn=yukawa_accel, k=1.0, a=a\n",
    "    )\n",
    "    plot_polar(r, theta, title=f'Yukawa  a={a}')\n"
   ]
  },
  {
   "cell_type": "markdown",
   "id": "6f4b457e",
   "metadata": {},
   "source": [
    "_For each $a$, record qualitative changes: does the orbit remain closed, precess, or become unbound?_"
   ]
  },
  {
   "cell_type": "markdown",
   "id": "766d6b8c",
   "metadata": {},
   "source": [
    "## 3 · Conclusions\n",
    "\n",
    "Summarise the key dynamical behaviours observed across the different force laws and parameter variations.  \n",
    "Which forces yield closed orbits? Where do we observe precession or runaway trajectories?  \n",
    "Link your explanations to conservation of energy and angular momentum.\n"
   ]
  },
  {
   "cell_type": "markdown",
   "id": "5eafee92-e10a-40bc-864e-9baa20afc041",
   "metadata": {},
   "source": [
    "# "
   ]
  }
 ],
 "metadata": {
  "kernelspec": {
   "display_name": "Python 3 (ipykernel)",
   "language": "python",
   "name": "python3"
  },
  "language_info": {
   "codemirror_mode": {
    "name": "ipython",
    "version": 3
   },
   "file_extension": ".py",
   "mimetype": "text/x-python",
   "name": "python",
   "nbconvert_exporter": "python",
   "pygments_lexer": "ipython3",
   "version": "3.11.8"
  }
 },
 "nbformat": 4,
 "nbformat_minor": 5
}
